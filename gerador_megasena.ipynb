{
 "cells": [
  {
   "cell_type": "code",
   "execution_count": null,
   "id": "f1d247a1",
   "metadata": {},
   "outputs": [
    {
     "name": "stdout",
     "output_type": "stream",
     "text": [
      "Você quer gerar números? (sim/não): sim\n",
      "Números gerados: [1, 20, 21, 30, 54, 56]\n"
     ]
    }
   ],
   "source": [
    "import random\n",
    "\n",
    "# Números mais e menos sorteados\n",
    "numeros_mais_sorteados = [10, 53, 5, 37, 34, 33, 23, 4, 44, 42, 30, 32, 35, 38, 41, 17]\n",
    "numeros_menos_sorteados = [26, 21, 55, 15, 22, 48, 31, 9, 3, 40, 7]\n",
    "\n",
    "# Balanceamento entre pares e ímpares\n",
    "numeros_pares = [n for n in range(1, 61) if n % 2 == 0]\n",
    "numeros_impares = [n for n in range(1, 61) if n % 2 != 0]\n",
    "\n",
    "def gerar_sim():\n",
    "    combinacao = []\n",
    "\n",
    "    # Adiciona números mais sorteados\n",
    "    combinacao.extend(random.sample(numeros_mais_sorteados, 1))\n",
    "\n",
    "    # Adiciona números menos sorteados\n",
    "    combinacao.extend(random.sample(numeros_menos_sorteados, 1))\n",
    "\n",
    "    # Adiciona números pares e ímpares balanceados\n",
    "    combinacao.extend(random.sample(numeros_pares, 1))\n",
    "    combinacao.extend(random.sample(numeros_impares, 1))\n",
    "\n",
    "    # Completa a combinação com números aleatórios\n",
    "    combinacao.extend(random.sample(range(1, 61), 2))\n",
    "\n",
    "    return sorted(combinacao[:6])\n",
    "\n",
    "def registrar_sim():\n",
    "    resposta = input(\"Você quer gerar números? (sim/não): \")\n",
    "    if resposta.lower() == \"sim\":\n",
    "        numeros_gerados = gerar_sim()\n",
    "        print(\"Números gerados:\", numeros_gerados)\n",
    "        registrar_sim()\n",
    "    else:\n",
    "        print(\"Ok, sem problemas. Até a próxima!\")\n",
    "\n",
    "# Chamando a função para iniciar o processo\n",
    "registrar_sim()"
   ]
  },
  {
   "cell_type": "code",
   "execution_count": null,
   "id": "2186b2cd",
   "metadata": {},
   "outputs": [],
   "source": []
  }
 ],
 "metadata": {
  "kernelspec": {
   "display_name": "Python 3 (ipykernel)",
   "language": "python",
   "name": "python3"
  },
  "language_info": {
   "codemirror_mode": {
    "name": "ipython",
    "version": 3
   },
   "file_extension": ".py",
   "mimetype": "text/x-python",
   "name": "python",
   "nbconvert_exporter": "python",
   "pygments_lexer": "ipython3",
   "version": "3.11.5"
  }
 },
 "nbformat": 4,
 "nbformat_minor": 5
}
